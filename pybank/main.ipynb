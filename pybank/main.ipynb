{
 "cells": [
  {
   "cell_type": "code",
   "execution_count": 5,
   "id": "8f177ae0-ccaf-481b-be1d-13b7c13bd671",
   "metadata": {},
   "outputs": [],
   "source": [
    "import pandas as pd "
   ]
  },
  {
   "cell_type": "code",
   "execution_count": 6,
   "id": "8f266241-3765-4b41-a996-f67cf5b4aff0",
   "metadata": {
    "tags": []
   },
   "outputs": [
    {
     "data": {
      "text/html": [
       "<div>\n",
       "<style scoped>\n",
       "    .dataframe tbody tr th:only-of-type {\n",
       "        vertical-align: middle;\n",
       "    }\n",
       "\n",
       "    .dataframe tbody tr th {\n",
       "        vertical-align: top;\n",
       "    }\n",
       "\n",
       "    .dataframe thead th {\n",
       "        text-align: right;\n",
       "    }\n",
       "</style>\n",
       "<table border=\"1\" class=\"dataframe\">\n",
       "  <thead>\n",
       "    <tr style=\"text-align: right;\">\n",
       "      <th></th>\n",
       "      <th>Date</th>\n",
       "      <th>Profit/Losses</th>\n",
       "    </tr>\n",
       "  </thead>\n",
       "  <tbody>\n",
       "    <tr>\n",
       "      <th>0</th>\n",
       "      <td>Jan-2010</td>\n",
       "      <td>867884</td>\n",
       "    </tr>\n",
       "    <tr>\n",
       "      <th>1</th>\n",
       "      <td>Feb-2010</td>\n",
       "      <td>984655</td>\n",
       "    </tr>\n",
       "    <tr>\n",
       "      <th>2</th>\n",
       "      <td>Mar-2010</td>\n",
       "      <td>322013</td>\n",
       "    </tr>\n",
       "    <tr>\n",
       "      <th>3</th>\n",
       "      <td>Apr-2010</td>\n",
       "      <td>-69417</td>\n",
       "    </tr>\n",
       "    <tr>\n",
       "      <th>4</th>\n",
       "      <td>May-2010</td>\n",
       "      <td>310503</td>\n",
       "    </tr>\n",
       "  </tbody>\n",
       "</table>\n",
       "</div>"
      ],
      "text/plain": [
       "       Date  Profit/Losses\n",
       "0  Jan-2010         867884\n",
       "1  Feb-2010         984655\n",
       "2  Mar-2010         322013\n",
       "3  Apr-2010         -69417\n",
       "4  May-2010         310503"
      ]
     },
     "execution_count": 6,
     "metadata": {},
     "output_type": "execute_result"
    }
   ],
   "source": [
    "#  creating a dataframe for the dataset and displaying the top five data in dataset \n",
    "df = pd.read_csv('budget_data.csv')\n",
    "df.head()"
   ]
  },
  {
   "cell_type": "code",
   "execution_count": 7,
   "id": "9616cbf5-a052-409f-8351-756d89cb66ad",
   "metadata": {
    "tags": []
   },
   "outputs": [
    {
     "name": "stderr",
     "output_type": "stream",
     "text": [
      "C:\\Users\\princ\\AppData\\Local\\Temp\\ipykernel_25496\\1717580716.py:2: UserWarning: Could not infer format, so each element will be parsed individually, falling back to `dateutil`. To ensure parsing is consistent and as-expected, please specify a format.\n",
      "  df['Date'] = pd.to_datetime(df['Date'])\n"
     ]
    }
   ],
   "source": [
    "# convert \"Date\" column to datetime format\n",
    "df['Date'] = pd.to_datetime(df['Date'])"
   ]
  },
  {
   "cell_type": "code",
   "execution_count": 8,
   "id": "dabe1b95-ebe5-4b4a-8c90-54387b5d5aef",
   "metadata": {
    "tags": []
   },
   "outputs": [
    {
     "name": "stdout",
     "output_type": "stream",
     "text": [
      "Total months : 86\n"
     ]
    }
   ],
   "source": [
    "# Task 1: The total number of months included in the dataset.\n",
    "#Subsetting the Date column to determine the number of months\n",
    "months = df['Date'].count()\n",
    "print('Total months :', months)"
   ]
  },
  {
   "cell_type": "code",
   "execution_count": 9,
   "id": "3cdf4b42-063b-41e2-bc5f-da3bd20f73fd",
   "metadata": {},
   "outputs": [
    {
     "name": "stdout",
     "output_type": "stream",
     "text": [
      "Totals : $ 38382578\n"
     ]
    }
   ],
   "source": [
    "# Task 2 : The net total amount of profit/Losses over the entire period.\n",
    "net_amount= df['Profit/Losses'].sum()\n",
    "print('Totals : $', net_amount)"
   ]
  },
  {
   "cell_type": "code",
   "execution_count": 10,
   "id": "c3b4917a-9211-4227-8935-10288055362e",
   "metadata": {
    "tags": []
   },
   "outputs": [
    {
     "name": "stdout",
     "output_type": "stream",
     "text": [
      "-2315.12\n"
     ]
    }
   ],
   "source": [
    "# Task 3 : The average of the changes in Profit/Losses over the entire period.\n",
    "df['PL_change'] = df ['Profit/Losses'].diff()\n",
    "revenue = df['PL_change'].sum()/df['PL_change'].count()\n",
    "revenue_average = revenue.round(2)\n",
    "print(revenue_average)"
   ]
  },
  {
   "cell_type": "code",
   "execution_count": 11,
   "id": "88631219-e773-4380-b756-8aba2bc9e0f3",
   "metadata": {
    "tags": []
   },
   "outputs": [
    {
     "data": {
      "text/plain": [
       "(1926159.0, Timestamp('2017-02-01 00:00:00'))"
      ]
     },
     "execution_count": 11,
     "metadata": {},
     "output_type": "execute_result"
    }
   ],
   "source": [
    "# Task 4 : The greatest increase in profits (date and amount) over the entire period.\n",
    "(df['PL_change'].max(), df.loc[df['Date'].idxmax()][0])\n"
   ]
  },
  {
   "cell_type": "code",
   "execution_count": 12,
   "id": "a2cae275-8f81-4fe0-93b2-8599b575b166",
   "metadata": {},
   "outputs": [
    {
     "data": {
      "text/plain": [
       "(-2196167.0, Timestamp('2010-01-01 00:00:00'))"
      ]
     },
     "execution_count": 12,
     "metadata": {},
     "output_type": "execute_result"
    }
   ],
   "source": [
    "# Task 5 : The greatest decrease in profits (date and amount) over the entire period.\n",
    "(df['PL_change'].min(), df.loc[df['Date'].idxmin()][0])\n"
   ]
  },
  {
   "cell_type": "code",
   "execution_count": 13,
   "id": "e242cc9e-66c4-4697-8ec2-bdf449dd679e",
   "metadata": {
    "tags": []
   },
   "outputs": [
    {
     "name": "stdout",
     "output_type": "stream",
     "text": [
      " Financial Analysis \n",
      " ---------------------------- \n",
      " Total Months: 86 \n",
      " Total: $38382578 \n",
      " Average Change: $-2315.12 \n",
      " Greatest Increase in Profits: Feb-2012 ($1926159.0) \n",
      " Greatest Decrease in Profits: Sep-2013 ($-2196167.0)\n"
     ]
    }
   ],
   "source": [
    "# results\n",
    "result = f\" Financial Analysis \\n ---------------------------- \\n Total Months: {months} \\n Total: ${net_amount} \\n Average Change: ${revenue_average} \\n Greatest Increase in Profits: Feb-2012 (${df['PL_change'].max()}) \\n Greatest Decrease in Profits: Sep-2013 (${df['PL_change'].min()})\"\n",
    "print (result)"
   ]
  },
  {
   "cell_type": "code",
   "execution_count": 14,
   "id": "b285f289-a844-40d2-a380-9e8bbb420eda",
   "metadata": {
    "tags": []
   },
   "outputs": [],
   "source": [
    "# write to text file\n",
    "\n",
    "f = open(\"pybank.txt\", \"w\")\n",
    "f.write(result)\n",
    "f.close()"
   ]
  },
  {
   "cell_type": "code",
   "execution_count": null,
   "id": "cb402c78-627a-4520-9fc7-35b10e53a8a1",
   "metadata": {},
   "outputs": [],
   "source": []
  }
 ],
 "metadata": {
  "kernelspec": {
   "display_name": "Python 3 (ipykernel)",
   "language": "python",
   "name": "python3"
  },
  "language_info": {
   "codemirror_mode": {
    "name": "ipython",
    "version": 3
   },
   "file_extension": ".py",
   "mimetype": "text/x-python",
   "name": "python",
   "nbconvert_exporter": "python",
   "pygments_lexer": "ipython3",
   "version": "3.11.5"
  }
 },
 "nbformat": 4,
 "nbformat_minor": 5
}
